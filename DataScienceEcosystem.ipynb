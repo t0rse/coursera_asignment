{
 "cells": [
  {
   "cell_type": "markdown",
   "id": "c56a25b3-3fcb-4d78-a15e-2538b8aa92a9",
   "metadata": {
    "tags": []
   },
   "source": [
    "# Data Science Tools and Ecosystem"
   ]
  },
  {
   "cell_type": "markdown",
   "id": "007655b9-570e-4d3e-9765-69035ba387a6",
   "metadata": {},
   "source": [
    "In this notebook, Data Science Tools and Ecosystem are summarized."
   ]
  },
  {
   "cell_type": "markdown",
   "id": "30d066e4-dd7d-4c00-9887-f7eb65f2c8dc",
   "metadata": {},
   "source": [
    "Some of the popular languages that Data Scientists use are:\n",
    "1. Python\n",
    "1. R\n",
    "1. Julia"
   ]
  },
  {
   "cell_type": "markdown",
   "id": "90e75c27-08c0-4f3c-9d2d-5aa81ef6b22a",
   "metadata": {},
   "source": [
    "Some of the commonly used libraries used by Data Scientists include:\n",
    "1. Numpy\n",
    "1. Pandas\n",
    "1. MatplotLib\n",
    "1. Keras\n"
   ]
  },
  {
   "cell_type": "markdown",
   "id": "5b6aac6d-d808-4be2-9bee-075da9e7f15e",
   "metadata": {
    "tags": []
   },
   "source": [
    "|Data Science Tools|\n",
    "|:------------------:|\n",
    "|  Apache Spark   |\n",
    "|  Apache Hadoop   |\n",
    "|  TensorFlow   |"
   ]
  },
  {
   "cell_type": "markdown",
   "id": "eb2b000c-0ccd-4b36-beea-2ba7c881c8c3",
   "metadata": {
    "tags": []
   },
   "source": [
    "### Below are a few examples of evaluating arithmetic expressions in Python"
   ]
  },
  {
   "cell_type": "code",
   "execution_count": 6,
   "id": "545037eb-40cd-48e9-9cc1-6512d4ae881a",
   "metadata": {
    "tags": []
   },
   "outputs": [
    {
     "data": {
      "text/plain": [
       "17"
      ]
     },
     "execution_count": 6,
     "metadata": {},
     "output_type": "execute_result"
    }
   ],
   "source": [
    "# This a simple arithmetic expression to mutiply then add integers\n",
    "(3*4)+5"
   ]
  },
  {
   "cell_type": "code",
   "execution_count": 8,
   "id": "cd5be3ed-cd6f-4cc2-8a0b-29cf323b975b",
   "metadata": {
    "tags": []
   },
   "outputs": [
    {
     "data": {
      "text/plain": [
       "3.3333333333333335"
      ]
     },
     "execution_count": 8,
     "metadata": {},
     "output_type": "execute_result"
    }
   ],
   "source": [
    "# This will convert 200 minutes to hours by diving by 60\n",
    "200/60"
   ]
  },
  {
   "cell_type": "markdown",
   "id": "fcb35c48-6419-47ff-aa07-f43898120db6",
   "metadata": {},
   "source": [
    "__Objectives:__\n",
    "\n",
    "List popular languages for Data Science\n",
    "List commonly used libraries used by Data Scientists\n",
    "List Data Science Tools"
   ]
  },
  {
   "cell_type": "markdown",
   "id": "0913a73c-3c71-4a0b-b210-2c7527a9a891",
   "metadata": {
    "tags": []
   },
   "source": [
    "## Author\n",
    "Victor Gonçalves"
   ]
  },
  {
   "cell_type": "code",
   "execution_count": null,
   "id": "6332146b-88ff-4a45-9872-b790a7547c56",
   "metadata": {},
   "outputs": [],
   "source": []
  }
 ],
 "metadata": {
  "kernelspec": {
   "display_name": "Python",
   "language": "python",
   "name": "conda-env-python-py"
  },
  "language_info": {
   "codemirror_mode": {
    "name": "ipython",
    "version": 3
   },
   "file_extension": ".py",
   "mimetype": "text/x-python",
   "name": "python",
   "nbconvert_exporter": "python",
   "pygments_lexer": "ipython3",
   "version": "3.7.12"
  }
 },
 "nbformat": 4,
 "nbformat_minor": 5
}
